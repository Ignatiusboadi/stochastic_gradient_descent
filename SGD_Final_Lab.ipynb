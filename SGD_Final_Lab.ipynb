{
  "cells": [
    {
      "cell_type": "markdown",
      "metadata": {
        "id": "rwu7G8qw6K0b"
      },
      "source": [
        "# LAB: Stochastic Gradient Descent SOLUTIONS\n",
        "\n",
        "The objective of this lab session is to implement and test:\n",
        "- Stochastic gradient descent with constant stepsizes\n",
        "- Stochastic gradient descent with shrinking stepsizes\n",
        "- Stochastic gradient descent with sampling with/without replacement\n",
        "- Stochastic gradient descent with averaging\n",
        "- Stochastic gradient descent with momentum\n",
        "\n",
        "and compare your implementation with gradient descent.\n",
        "\n",
        "Throughout the notebook you will find commented boxes like this one\n",
        "\n"
      ]
    },
    {
      "cell_type": "code",
      "execution_count": 1,
      "metadata": {
        "id": "PPZTYH5j6K0c"
      },
      "outputs": [],
      "source": [
        "### TODO ###\n",
        "# please implement blabla\n",
        "#############"
      ]
    },
    {
      "cell_type": "code",
      "execution_count": 1,
      "metadata": {},
      "outputs": [],
      "source": [
        "#pip install numba"
      ]
    },
    {
      "cell_type": "markdown",
      "metadata": {
        "id": "3-WhBkmX6K0d"
      },
      "source": [
        "These boxes need to be replaced by code as explained in the boxes. Good luck!"
      ]
    },
    {
      "cell_type": "code",
      "execution_count": 2,
      "metadata": {
        "id": "K8h7D3MZ6K0d"
      },
      "outputs": [],
      "source": [
        "%matplotlib inline"
      ]
    },
    {
      "cell_type": "code",
      "execution_count": 36,
      "metadata": {
        "colab": {
          "base_uri": "https://localhost:8080/",
          "height": 349
        },
        "id": "cbPWGVp06K0d",
        "outputId": "bd370392-c2d1-4a71-cced-bc6fa399f452"
      },
      "outputs": [],
      "source": [
        "import numpy as np\n",
        "from numpy import linalg as la\n",
        "from scipy.linalg import norm\n",
        "import matplotlib.pyplot as plt\n",
        "from numba import njit, jit #jitclass  # A just in time compiler to speed things up!"
      ]
    },
    {
      "cell_type": "markdown",
      "metadata": {
        "id": "E8voZO-r6K0d"
      },
      "source": [
        "<a id='loss'></a>\n",
        "## 1. Loss functions, gradients and step-sizes\n",
        "\n",
        "We want to minimize\n",
        "$$\n",
        "\\frac 1n \\sum_{i=1}^n \\ell(x_i^\\top w, b_i) + \\frac \\lambda 2 \\|w\\|_2^2\n",
        "$$\n",
        "where\n",
        "- $\\ell(z, b) = \\frac 12 (b - z)^2$ (least-squares regression)\n",
        "- $\\ell(z, b) = \\log(1 + \\exp(-bz))$ (logistic regression).\n",
        "\n",
        "We write it as a a minimization problem of the form\n",
        "$$\n",
        "\\frac 1n \\sum_{i=1}^n f_i(w)\n",
        "$$\n",
        "where\n",
        "$$\n",
        "f_i(w) = \\ell(x_i^\\top w, y_i) + \\frac \\lambda 2 \\|w\\|_2^2.\n",
        "$$\n",
        "\n",
        "For both cases, the gradients are\n",
        "$$\n",
        "\\nabla f_i(w) = (x_i^\\top w - y_i) x_i + \\lambda w\n",
        "$$\n",
        "and\n",
        "$$\n",
        "\\nabla f_i(w) = - \\frac{y_i}{1 + \\exp(y_i x_i^\\top w)} x_i + \\lambda w.\n",
        "$$\n",
        "\n",
        "Denote by $L$ the Lipschitz constant of $f$ and $X = [x_1, \\ldots, x_n].$\n",
        "One can see easily that for linear regression\n",
        "$$\n",
        "L = \\frac{ \\|\\mathbf X \\mathbf X^\\top \\|_{2}}{n} + \\lambda\n",
        "$$\n",
        "while for logistic regression it is\n",
        "$$\n",
        "L = \\frac{ \\|\\mathbf X \\mathbf X^\\top \\|_{2}}{4 n} + \\lambda\n",
        "$$\n",
        "For full-gradient methods, the theoretical step-size is $1 / L$."
      ]
    },
    {
      "cell_type": "markdown",
      "metadata": {
        "id": "X4-D7CHP6K0d"
      },
      "source": [
        "We now introduce a class that will be used for the solvers."
      ]
    },
    {
      "cell_type": "code",
      "execution_count": 37,
      "metadata": {
        "id": "HlSTV_mf6K0d"
      },
      "outputs": [],
      "source": [
        "from scipy.linalg import svd\n",
        "\n",
        "class LinReg(object):\n",
        "    \"\"\"A class for the least-squares regression with\n",
        "    Ridge penalization\"\"\"\n",
        "\n",
        "    def __init__(self, X, y, lbda):\n",
        "        self.X = X\n",
        "        self.y = y\n",
        "        self.n, self.d = X.shape\n",
        "        self.lbda = lbda\n",
        "\n",
        "    def grad(self, w):\n",
        "        ### TODO ###\n",
        "        # calculate the gradient of f\n",
        "        #############\n",
        "        residual = self.X.dot(w) - self.y\n",
        "        gradient = (1 / self.n) * self.X.T.dot(residual) + self.lbda * w\n",
        "        return gradient\n",
        "\n",
        "    def f_i(self, i, w):\n",
        "        return norm(self.X[i].dot(w) - self.y[i]) ** 2 / (2.) + self.lbda * norm(w) ** 2 / 2.\n",
        "\n",
        "    def f(self, w):\n",
        "        return norm(self.X.dot(w) - self.y) ** 2 / (2. * self.n) + self.lbda * norm(w) ** 2 / 2.\n",
        "\n",
        "# (1/n)X_i (X_i^Tw-y_i) + lbda*w\n",
        "    def grad_i(self, i, w):\n",
        "        ### TODO ###\n",
        "        # calculate the gradient of f_i\n",
        "        #############\n",
        "        residual = self.X[i].dot(w) - self.y[i]\n",
        "        gradient = self.X[i].T.dot(residual) + self.lbda * w\n",
        "        return gradient\n",
        "\n",
        "    def lipschitz_constant(self):\n",
        "        \"\"\"Return the smoothness constant (Lipschitz constant of the gradient)\"\"\"\n",
        "        L = norm(self.X, ord=2) ** 2 / self.n + self.lbda\n",
        "        return L\n",
        "\n",
        "    def L_max_constant(self):\n",
        "        \"\"\"Return the L_max constant \"\"\"\n",
        "        L_max = np.max(np.sum(self.X ** 2, axis=1)) + self.lbda\n",
        "        return L_max\n",
        "\n",
        "    def mu_constant(self):\n",
        "        \"\"\"Return the strong convexity constant\"\"\"\n",
        "        mu =  min(abs(la.eigvals(np.dot(self.X.T,self.X)))) / self.n + self.lbda\n",
        "        return mu"
      ]
    },
    {
      "cell_type": "code",
      "execution_count": 38,
      "metadata": {
        "id": "sVH18g2L6K0e"
      },
      "outputs": [],
      "source": [
        "class LogReg(object):\n",
        "    \"\"\"A class for the logistic regression with L2 penalization\"\"\"\n",
        "\n",
        "    def __init__(self, X, y, lbda):\n",
        "        self.X = X\n",
        "        self.y = y\n",
        "        self.n, self.d = X.shape\n",
        "        self.lbda = lbda\n",
        "\n",
        "    def grad(self, w):\n",
        "        ### TODO ###\n",
        "        # calculate the gradient of f\n",
        "        #############\n",
        "        bAx = self.y * self.X.dot(w)\n",
        "        sigmoid = 1. / (1. + np.exp(-bAx))\n",
        "        grad_f = -self.X.T.dot(self.y * (sigmoid - 1)) / self.n + self.lbda * w\n",
        "        return grad_f\n",
        "\n",
        "    def f_i(self,i, w):\n",
        "        bAx_i = self.y[i] * np.dot(self.X[i], w)\n",
        "        return np.log(1. + np.exp(- bAx_i)) + self.lbda * norm(w) ** 2 / 2.\n",
        "\n",
        "    def f(self, w):\n",
        "        bAx = self.y * self.X.dot(w)\n",
        "        return np.mean(np.log(1. + np.exp(- bAx))) + self.lbda * norm(w) ** 2 / 2.\n",
        "\n",
        "    def grad_i(self, i, w):\n",
        "        ### TODO ###\n",
        "        # calculate the gradient of f_i\n",
        "        #############\n",
        "        bAx_i = self.y[i] * np.dot(self.X[i], w)\n",
        "        sigmoid_i = 1. / (1. + np.exp(-bAx_i))\n",
        "        grad_f_i = -self.y[i] * self.X[i] * (sigmoid_i - 1) + self.lbda * w\n",
        "        return grad_f_i\n",
        "\n",
        "    def lipschitz_constant(self):\n",
        "        \"\"\"Return the smoothness constant (Lipschitz constant of the gradient)\"\"\"\n",
        "        L = norm(self.X, ord=2) ** 2  / (4. * self.n) + self.lbda\n",
        "        return L\n",
        "    def L_max_constant(self):\n",
        "        \"\"\"Return the L_max constant \"\"\"\n",
        "        L_max = np.max(np.sum(self.X ** 2, axis=1))/4 + self.lbda\n",
        "        return L_max\n",
        "\n",
        "    def mu_constant(self):\n",
        "        \"\"\"Return the strong convexity constant\"\"\"\n",
        "        mu =  self.lbda\n",
        "        return mu"
      ]
    },
    {
      "cell_type": "markdown",
      "metadata": {
        "id": "AWniFuK-6K0e"
      },
      "source": [
        "<a id='data'></a>\n",
        "## 2. Generate a dataset\n",
        "\n",
        "We generate datasets for the least-squares and the logistic cases. First we define a function for the least-squares case."
      ]
    },
    {
      "cell_type": "code",
      "execution_count": 39,
      "metadata": {
        "id": "jizQPFSS6K0e"
      },
      "outputs": [
        {
          "name": "stderr",
          "output_type": "stream",
          "text": [
            "/var/folders/kv/k0n1zqps6yl6f9fn9j5pwryr0000gn/T/ipykernel_2156/4239751618.py:2: DeprecationWarning: Please use `toeplitz` from the `scipy.linalg` namespace, the `scipy.linalg.special_matrices` namespace is deprecated.\n",
            "  from scipy.linalg.special_matrices import toeplitz\n"
          ]
        }
      ],
      "source": [
        "from numpy.random import multivariate_normal, randn\n",
        "from scipy.linalg.special_matrices import toeplitz\n",
        "\n",
        "\n",
        "def simu_linreg(w, n, std=1., corr=0.5):\n",
        "    \"\"\"\n",
        "    Simulation of the least-squares problem\n",
        "\n",
        "    Parameters\n",
        "    ----------\n",
        "    x : np.ndarray, shape=(d,)\n",
        "        The coefficients of the model\n",
        "\n",
        "    n : int\n",
        "        Sample size\n",
        "\n",
        "    std : float, default=1.\n",
        "        Standard-deviation of the noise\n",
        "\n",
        "    corr : float, default=0.5\n",
        "        Correlation of the features matrix\n",
        "    \"\"\"\n",
        "    d = w.shape[0]\n",
        "    cov = toeplitz(corr ** np.arange(0, d))\n",
        "    X = multivariate_normal(np.zeros(d), cov, size=n)\n",
        "    noise = std * randn(n)\n",
        "    y = X.dot(w) + noise\n",
        "    return X, y"
      ]
    },
    {
      "cell_type": "code",
      "execution_count": 40,
      "metadata": {
        "id": "De7i_Rs66K0e"
      },
      "outputs": [],
      "source": [
        "def simu_logreg(w, n, std=1., corr=0.5):\n",
        "    \"\"\"\n",
        "    Simulation of the logistic regression problem\n",
        "\n",
        "    Parameters\n",
        "    ----------\n",
        "    x : np.ndarray, shape=(d,)\n",
        "        The coefficients of the model\n",
        "\n",
        "    n : int\n",
        "        Sample size\n",
        "\n",
        "    std : float, default=1.\n",
        "        Standard-deviation of the noise\n",
        "\n",
        "    corr : float, default=0.5\n",
        "        Correlation of the features matrix\n",
        "    \"\"\"\n",
        "    X, y = simu_linreg(w, n, std=1., corr=0.5)\n",
        "    return X, np.sign(y)"
      ]
    },
    {
      "cell_type": "markdown",
      "metadata": {
        "id": "T-C0O-lf6K0e"
      },
      "source": [
        "### Generate Data"
      ]
    },
    {
      "cell_type": "code",
      "execution_count": 41,
      "metadata": {
        "id": "4hJ_0TnB6K0e"
      },
      "outputs": [],
      "source": [
        "d = 50\n",
        "n = 1000\n",
        "idx = np.arange(d)\n",
        "\n",
        "# Ground truth coefficients of the model\n",
        "w_model_truth = (-1)**idx * np.exp(-idx / 10.)\n",
        "\n",
        "# X, y = simu_linreg(w_model_truth, n, std=1., corr=0.1)\n",
        "X, y = simu_logreg(w_model_truth, n, std=1., corr=0.7)"
      ]
    },
    {
      "cell_type": "code",
      "execution_count": 42,
      "metadata": {
        "id": "Hu0_5ujQ6K0e"
      },
      "outputs": [],
      "source": [
        "### Choice of the model"
      ]
    },
    {
      "cell_type": "code",
      "execution_count": 43,
      "metadata": {
        "id": "wOXJDvzd6K0e"
      },
      "outputs": [],
      "source": [
        "lbda = 1. / n ** (0.5)\n",
        "model = LinReg(X, y, lbda)\n",
        "#model = LogReg(X, y, lbda)"
      ]
    },
    {
      "cell_type": "code",
      "execution_count": 44,
      "metadata": {
        "id": "g8aoHc_P6K0e"
      },
      "outputs": [
        {
          "data": {
            "image/png": "[encoded data removed]",
            "text/plain": [
              "<Figure size 640x480 with 1 Axes>"
            ]
          },
          "metadata": {},
          "output_type": "display_data"
        }
      ],
      "source": [
        "plt.stem(w_model_truth);"
      ]
    },
    {
      "cell_type": "code",
      "execution_count": 45,
      "metadata": {
        "id": "1KXFR2Xu6K0e"
      },
      "outputs": [
        {
          "name": "stdout",
          "output_type": "stream",
          "text": [
            "2.3708942049541248e-06\n"
          ]
        },
        {
          "data": {
            "image/png": "[encoded data removed]",
            "text/plain": [
              "<Figure size 640x480 with 1 Axes>"
            ]
          },
          "metadata": {},
          "output_type": "display_data"
        }
      ],
      "source": [
        "# Check that the gradient grad_i and the numerical gradient of f_i agree\n",
        "grad_error = []\n",
        "for i in range(n):\n",
        "    ind = np.random.choice(n,1)\n",
        "    w =  np.random.randn(d)\n",
        "    vec =  np.random.randn(d)\n",
        "    eps = pow(10.0, -7.0)\n",
        "    model.f_i(ind[0],w)\n",
        "    grad_error.append((model.f_i( ind[0], w+eps*vec) - model.f_i( ind[0], w))/eps - np.dot(model.grad_i(ind[0],w),vec))\n",
        "plt.stem(grad_error);\n",
        "print(np.mean(grad_error))"
      ]
    },
    {
      "cell_type": "code",
      "execution_count": 46,
      "metadata": {
        "id": "R27umeBJ6K0e"
      },
      "outputs": [
        {
          "data": {
            "text/plain": [
              "1.0999850921005703"
            ]
          },
          "execution_count": 46,
          "metadata": {},
          "output_type": "execute_result"
        }
      ],
      "source": [
        "from scipy.optimize import check_grad\n",
        "modellog = LogReg(X, y, lbda)\n",
        "# Check that the gradient and the loss numerically match\n",
        "check_grad(modellog.f, modellog.grad, np.random.randn(d))"
      ]
    },
    {
      "cell_type": "code",
      "execution_count": 47,
      "metadata": {
        "id": "9cFipHl46K0e"
      },
      "outputs": [
        {
          "data": {
            "text/plain": [
              "9.203122820498983e-06"
            ]
          },
          "execution_count": 47,
          "metadata": {},
          "output_type": "execute_result"
        }
      ],
      "source": [
        "modellin = LinReg(X, y, lbda)\n",
        "# Check that the gradient and the loss numerically match\n",
        "check_grad(modellin.f, modellin.grad, np.random.randn(d))"
      ]
    },
    {
      "cell_type": "markdown",
      "metadata": {
        "id": "VB4xhvTC6K0e"
      },
      "source": [
        "### Find a highly accurate solution using LBFGS method"
      ]
    },
    {
      "cell_type": "code",
      "execution_count": 48,
      "metadata": {
        "id": "5gr4RNc_6K0e"
      },
      "outputs": [
        {
          "name": "stdout",
          "output_type": "stream",
          "text": [
            "0.29238805903444237\n",
            "3.243558897364275e-08\n"
          ]
        }
      ],
      "source": [
        "from scipy.optimize import fmin_l_bfgs_b\n",
        "\n",
        "w_init = np.zeros(d)\n",
        "w_min, obj_min, _ = fmin_l_bfgs_b(model.f, w_init, model.grad, args=(), pgtol=1e-30, factr =1e-30)\n",
        "\n",
        "print(obj_min)\n",
        "print(norm(model.grad(w_min)))"
      ]
    },
    {
      "cell_type": "markdown",
      "metadata": {
        "id": "9Ong0gYH6K0f"
      },
      "source": [
        "<a id='constant'></a>\n",
        "\n",
        "## 3. Implementing Stochastic Gradient Descent\n"
      ]
    },
    {
      "cell_type": "markdown",
      "metadata": {
        "id": "Fgoo2-7e6K0f"
      },
      "source": [
        "### SGD\n",
        "\n",
        "We recall that an iteration of SGD writes\n",
        "\n",
        "\n",
        "\n",
        "**for** $t = 1, \\ldots, T$\n",
        "  \n",
        "$\\qquad$ Pick $i$ uniformly at random in $\\{1, \\ldots, n\\}$\n",
        "   \n",
        "$\\qquad \\displaystyle\n",
        "w^{t+1} \\gets w^t - \\gamma^t \\nabla f_i(w^t)\n",
        "$\n",
        "  \n",
        "**end for**\n",
        "\n",
        "\n",
        "\n",
        "Complete the code below. The inputs are\n",
        "- n_iter: The number of iterations\n",
        "- indices: an np.array of indices of length n_iter. The indices[t]  is the index of stochastic gradient that will be used on the t-th iteration.\n",
        "- steps: an np.array of positive floats of length n_iter. The steps[t] is the stepsize used on the kth iteration. Typically decreasing stepsizes are used.\n",
        "\n",
        "- averaging_on: is a boolean which indicates if the output should be the average of the iterates.\n",
        "\n",
        "The outputs are:\n",
        "- x_output: The final x vector found by the algorithm or the average  $ \\bar{w} = \\frac{1}{T-t}\\sum_{i=t}^T w^t$ if averaging is on\n",
        "- objectives: A ndarray containing the sequence function values calculated during the iterations of the algorithm\n",
        "- errors: If w_min is not empty, errors is a ndarray containing the sequence of errors || x - w_min || of the algorithm. Otherwise errors should be empty.\n",
        "*QUESTION*:\n",
        "- Fill in the iteration of the SGD solver in the cell below"
      ]
    },
    {
      "cell_type": "code",
      "execution_count": 58,
      "metadata": {
        "id": "9bjEf1-J6K0f"
      },
      "outputs": [],
      "source": [
        "import numpy as np\n",
        "from numpy.linalg import norm\n",
        "def sgd(w0, model, indices, steps, w_min, n_iter=100, averaging_on=False, momentum=0, verbose=True, start_averaging=0):\n",
        "    \"\"\"Stochastic gradient descent algorithm\"\"\"\n",
        "    w = w0.copy()\n",
        "    w_velocity = np.zeros_like(w0)  # Added for momentum\n",
        "    n_samples, n_features = model.X.shape  # Corrected from X to model.X\n",
        "    w_average = w0.copy()\n",
        "    errors = []\n",
        "    err = 1.0\n",
        "    objectives = []\n",
        "    if np.any(w_min):\n",
        "        err = norm(w - w_min) / norm(w_min)\n",
        "        errors.append(err)\n",
        "    obj = model.f(w)\n",
        "    objectives.append(obj)\n",
        "    if verbose:\n",
        "        print(\"Launching SGD solver...\")\n",
        "        print(' | '.join([name.center(8) for name in [\"it\", \"obj\", \"err\"]]))\n",
        "    for t in range(n_iter):\n",
        "        i = indices[t]\n",
        "        grad = model.grad_i(i, w)  # Corrected the order of arguments\n",
        "\n",
        "        if momentum:\n",
        "            w_velocity = momentum * w_velocity - steps[t] * grad\n",
        "            w += w_velocity\n",
        "        else:\n",
        "            w -= steps[t] * grad\n",
        "\n",
        "        if t >= start_averaging:\n",
        "            w_average = (w_average * (t - start_averaging) + w) / (t - start_averaging + 1)\n",
        "\n",
        "        if averaging_on:\n",
        "            w_test = w_average\n",
        "        else:\n",
        "            w_test = w\n",
        "        \n",
        "        obj = model.f(w_test)\n",
        "        if np.any(w_min):\n",
        "            err = norm(w_test - w_min) / norm(w_min)\n",
        "            errors.append(err)\n",
        "        objectives.append(obj)\n",
        "        \n",
        "        if (t + 1) % n_samples == 0 and verbose:\n",
        "            if np.any(w_min):\n",
        "                print(' | '.join([(\"%d\" % (t + 1)).rjust(8),\n",
        "                                  (\"%.2e\" % obj).rjust(8),\n",
        "                                  (\"%.2e\" % err).rjust(8)]))\n",
        "            else:\n",
        "                print(' | '.join([(\"%d\" % (t + 1)).rjust(8),\n",
        "                                  (\"%.2e\" % obj).rjust(8)]))\n",
        "    \n",
        "    if averaging_on:\n",
        "        w_output = w_average\n",
        "    else:\n",
        "        w_output = w\n",
        "\n",
        "    return w_output, np.array(objectives), np.array(errors)\n",
        "\n"
      ]
    },
    {
      "cell_type": "code",
      "execution_count": 59,
      "metadata": {
        "id": "zsdBiUg06K0f"
      },
      "outputs": [],
      "source": [
        "##Setup number of iterations\n",
        "datapasses = 30  # number of sweeps through all the data. This means that there will datapasses*n stochastic gradient updates\n",
        "n_iter = int(datapasses * n)"
      ]
    },
    {
      "cell_type": "markdown",
      "metadata": {
        "id": "SCxO9NWz6K0f"
      },
      "source": [
        "### SGD with constant step with replacement\n",
        "\n",
        "Implement constant stepsizes with steps[t] $= 1/(2L_{\\max})$"
      ]
    },
    {
      "cell_type": "code",
      "execution_count": 69,
      "metadata": {
        "id": "Bao2DaoQ6K0f"
      },
      "outputs": [],
      "source": [
        "Lmax = model.L_max_constant(); # Need this constant"
      ]
    },
    {
      "cell_type": "code",
      "execution_count": 76,
      "metadata": {},
      "outputs": [
        {
          "name": "stdout",
          "output_type": "stream",
          "text": [
            "Launching SGD solver...\n",
            "   it    |   obj    |   err   \n",
            "    1000 | 3.18e-01\n",
            "    2000 | 3.20e-01\n",
            "    3000 | 3.18e-01\n",
            "    4000 | 3.23e-01\n",
            "    5000 | 3.29e-01\n",
            "    6000 | 3.34e-01\n",
            "    7000 | 3.21e-01\n",
            "    8000 | 3.13e-01\n",
            "    9000 | 3.16e-01\n",
            "   10000 | 3.20e-01\n",
            "   11000 | 3.39e-01\n",
            "   12000 | 3.21e-01\n",
            "   13000 | 3.39e-01\n",
            "   14000 | 3.19e-01\n",
            "   15000 | 3.28e-01\n",
            "   16000 | 3.37e-01\n",
            "   17000 | 3.28e-01\n",
            "   18000 | 3.36e-01\n",
            "   19000 | 3.16e-01\n",
            "   20000 | 3.37e-01\n",
            "   21000 | 3.09e-01\n",
            "   22000 | 3.15e-01\n",
            "   23000 | 3.13e-01\n",
            "   24000 | 3.20e-01\n",
            "   25000 | 3.23e-01\n",
            "   26000 | 3.19e-01\n",
            "   27000 | 3.16e-01\n",
            "   28000 | 3.33e-01\n",
            "   29000 | 3.21e-01\n",
            "   30000 | 3.15e-01\n",
            "Final weights with constant steps:\n",
            " [ 0.3882079  -0.34009435  0.35675606 -0.3483691   0.2708605  -0.19504791\n",
            "  0.25977753 -0.2242936   0.20995121 -0.12029264  0.1783995  -0.17443226\n",
            "  0.1051543  -0.09553781  0.18001338 -0.07661798  0.14019587 -0.09958122\n",
            "  0.02571399 -0.063989    0.0704817  -0.13078739  0.09065466 -0.10148084\n",
            "  0.06267668 -0.03150606  0.06672717 -0.00478611  0.04300719 -0.02040795\n",
            "  0.02680024 -0.0116216  -0.02780208 -0.04562533  0.00315864  0.04720457\n",
            " -0.0737101  -0.03471436 -0.05571667  0.03012252  0.01907132 -0.00443766\n",
            " -0.10902196 -0.05062551 -0.06946397 -0.03676748  0.00992185  0.03922984\n",
            " -0.01545169 -0.02863238]\n",
            "Final objective value with constant steps:\n",
            " 0.3147109408989218\n",
            "Final error with constant steps:\n",
            " N/A\n"
          ]
        }
      ],
      "source": [
        "# Example usage for constant steps\n",
        "d = 50\n",
        "n = 1000\n",
        "idx = np.arange(d)\n",
        "w_model_truth = (-1) ** idx * np.exp(-idx / 10.)\n",
        "X, y = simu_logreg(w_model_truth, n, std=1., corr=0.7)\n",
        "\n",
        "lbda = 1. / n ** 0.5\n",
        "model = LinReg(X, y, lbda)\n",
        "\n",
        "datapasses = 30\n",
        "n_iter = int(datapasses * n)\n",
        "\n",
        "w0 = np.zeros(d)\n",
        "w_min = np.zeros(d)\n",
        "Lmax = model.L_max_constant()\n",
        "steps_constant = np.full(n_iter, 1 / (2 * Lmax))\n",
        "indices = np.random.randint(0, n, n_iter)\n",
        "\n",
        "w_output, objectives, errors = sgd(w0, model, indices, steps_constant, w_min, n_iter=n_iter, averaging_on=False, momentum=0, verbose=True, start_averaging=0)\n",
        "\n",
        "print(\"Final weights with constant steps:\\n\", w_output)\n",
        "print(\"Final objective value with constant steps:\\n\", objectives[-1])\n",
        "print(\"Final error with constant steps:\\n\", errors[-1] if len(errors) > 0 and errors[-1] is not None else \"N/A\")\n"
      ]
    },
    {
      "cell_type": "code",
      "execution_count": 73,
      "metadata": {},
      "outputs": [
        {
          "name": "stdout",
          "output_type": "stream",
          "text": [
            "Launching SGD solver...\n",
            "   it    |   obj    |   err   \n",
            "    1000 | 3.36e-01 | 6.72e-01\n",
            "    2000 | 3.47e-01 | 6.10e-01\n",
            "    3000 | 3.23e-01 | 6.01e-01\n",
            "    4000 | 3.25e-01 | 5.94e-01\n",
            "    5000 | 3.21e-01 | 6.09e-01\n",
            "    6000 | 3.31e-01 | 5.94e-01\n",
            "    7000 | 3.32e-01 | 5.94e-01\n",
            "    8000 | 3.31e-01 | 5.93e-01\n",
            "    9000 | 3.18e-01 | 6.13e-01\n",
            "   10000 | 3.27e-01 | 6.17e-01\n",
            "   11000 | 3.21e-01 | 6.08e-01\n",
            "   12000 | 3.30e-01 | 6.06e-01\n",
            "   13000 | 3.26e-01 | 6.20e-01\n",
            "   14000 | 3.29e-01 | 6.09e-01\n",
            "   15000 | 3.16e-01 | 5.97e-01\n",
            "   16000 | 3.23e-01 | 5.94e-01\n",
            "   17000 | 3.15e-01 | 6.18e-01\n",
            "   18000 | 3.21e-01 | 6.01e-01\n",
            "   19000 | 3.27e-01 | 5.99e-01\n",
            "   20000 | 3.14e-01 | 5.86e-01\n",
            "   21000 | 3.19e-01 | 5.95e-01\n",
            "   22000 | 3.31e-01 | 6.05e-01\n",
            "   23000 | 3.39e-01 | 6.17e-01\n",
            "   24000 | 3.25e-01 | 5.99e-01\n",
            "   25000 | 3.40e-01 | 6.17e-01\n",
            "   26000 | 3.15e-01 | 6.14e-01\n",
            "   27000 | 3.12e-01 | 5.77e-01\n",
            "   28000 | 3.26e-01 | 6.08e-01\n",
            "   29000 | 3.25e-01 | 6.16e-01\n",
            "   30000 | 3.12e-01 | 6.35e-01\n",
            "Final weights:\n",
            " [ 4.61736612e-01 -3.62121849e-01  3.21345510e-01 -3.11894723e-01\n",
            "  2.45460684e-01 -1.51699357e-01  1.86914351e-01 -1.94094779e-01\n",
            "  2.13562978e-01 -7.33647180e-02  6.22766433e-02 -1.12643092e-01\n",
            "  1.25288151e-01 -1.50852487e-01  1.09639414e-01 -4.71604033e-03\n",
            "  8.55331040e-02 -1.73349857e-01  2.42771720e-02 -7.81193134e-02\n",
            "  2.34793555e-02  4.53988929e-02 -9.70071937e-03 -4.11429105e-02\n",
            " -8.27691380e-05 -6.71224118e-02  2.45085677e-03 -7.06478860e-02\n",
            "  3.26405356e-02 -5.28240157e-04  2.08510437e-02 -2.79651917e-02\n",
            "  2.80264206e-02  3.42017967e-02  1.15419342e-02 -3.43844684e-02\n",
            "  5.77306435e-02 -1.17997060e-01  9.56320213e-02 -4.88888210e-02\n",
            " -1.97643853e-02  8.86741685e-02  3.93460779e-02  2.11924705e-02\n",
            " -3.37544249e-02  1.00629879e-01 -6.35341029e-02 -1.52403171e-02\n",
            "  9.59359462e-02  6.35259082e-03]\n",
            "Final objective value:\n",
            " 0.3119760813957558\n",
            "Final error:\n",
            " 0.6352125583987789\n"
          ]
        }
      ],
      "source": [
        "# Define the step sizes\n",
        "steps = np.array([1 / (2 * Lmax)] * n_iter)\n",
        "# Initial parameters\n",
        "w0 = np.zeros(d)\n",
        "w_min = w_model_truth\n",
        "\n",
        "# Indices for stochastic updates\n",
        "indices = np.random.randint(0, n, n_iter)\n",
        "\n",
        "# Run SGD\n",
        "w_output, objectives, errors = sgd(w0, model, indices, steps, w_min, n_iter=n_iter, averaging_on=False, momentum=0, verbose=True, start_averaging=0)\n",
        "\n",
        "# Output results\n",
        "print(\"Final weights:\\n\", w_output)\n",
        "print(\"Final objective value:\\n\", objectives[-1])\n",
        "print(\"Final error:\\n\", errors[-1] if len(errors) > 0 else \"N/A\")"
      ]
    },
    {
      "cell_type": "markdown",
      "metadata": {
        "id": "OR4BlFeR6K0f"
      },
      "source": [
        "### SGD with $C/(t+1)$ stepsizes with replacement\n",
        "\n",
        "Try the following decreasing stepsizes steps[t] $= 1/(2L_{\\max}(t+1))$"
      ]
    },
    {
      "cell_type": "code",
      "execution_count": 72,
      "metadata": {
        "id": "wcfCJ3e26K0f"
      },
      "outputs": [
        {
          "name": "stdout",
          "output_type": "stream",
          "text": [
            "Launching SGD solver...\n",
            "   it    |   obj    |   err   \n",
            "    1000 | 4.94e-01\n",
            "    2000 | 4.93e-01\n",
            "    3000 | 4.93e-01\n",
            "    4000 | 4.92e-01\n",
            "    5000 | 4.92e-01\n",
            "    6000 | 4.92e-01\n",
            "    7000 | 4.92e-01\n",
            "    8000 | 4.92e-01\n",
            "    9000 | 4.92e-01\n",
            "   10000 | 4.92e-01\n",
            "   11000 | 4.91e-01\n",
            "   12000 | 4.91e-01\n",
            "   13000 | 4.91e-01\n",
            "   14000 | 4.91e-01\n",
            "   15000 | 4.91e-01\n",
            "   16000 | 4.91e-01\n",
            "   17000 | 4.91e-01\n",
            "   18000 | 4.91e-01\n",
            "   19000 | 4.91e-01\n",
            "   20000 | 4.91e-01\n",
            "   21000 | 4.91e-01\n",
            "   22000 | 4.91e-01\n",
            "   23000 | 4.91e-01\n",
            "   24000 | 4.91e-01\n",
            "   25000 | 4.91e-01\n",
            "   26000 | 4.91e-01\n",
            "   27000 | 4.91e-01\n",
            "   28000 | 4.91e-01\n",
            "   29000 | 4.91e-01\n",
            "   30000 | 4.91e-01\n",
            "Final weights:\n",
            " [ 0.01258527 -0.00424208  0.00474189 -0.00791849 -0.00282083 -0.00057846\n",
            "  0.00804096  0.00181728  0.00580527  0.00392112  0.00845815  0.00115796\n",
            "  0.00725046 -0.00594595  0.00199742 -0.00705901  0.00292709 -0.00886565\n",
            " -0.01307276 -0.01143542 -0.00549777  0.00259496  0.00443367  0.011821\n",
            "  0.00085779 -0.00618332 -0.00558782  0.00336554 -0.01047813 -0.00603547\n",
            "  0.00221527 -0.00361258 -0.00243122 -0.00254616  0.00290839 -0.00132111\n",
            "  0.00418323  0.00411569  0.00949704 -0.00012612 -0.00115317  0.00366153\n",
            "  0.00272335  0.01423559 -0.00120448  0.00290245  0.00742761 -0.00171526\n",
            "  0.00214235 -0.00253366]\n",
            "Final objective value:\n",
            " 0.49052996210343325\n",
            "Final error:\n",
            " N/A\n"
          ]
        }
      ],
      "source": [
        "#############TODO#######################\n",
        "# Execute SGD with a shrinking stepsize steps[t] = 1/(2L_{\\max}(t+1)). Please name the output as\n",
        "# w_sgdsr, obj_sgdsr, err_sgdsr = sgd(.....?.....)\n",
        "##############END TODO######################\n",
        "\n",
        "# Initialize parameters\n",
        "w0 = np.zeros(d)\n",
        "w_min = np.zeros(d)\n",
        "Lmax = model.L_max_constant()\n",
        "steps = 1 / (2 * Lmax * (np.arange(n_iter) + 1))\n",
        "indices = np.random.randint(0, n, n_iter)\n",
        "\n",
        "# Run SGD\n",
        "w_output, objectives, errors = sgd(w0, model, indices, steps, w_min, n_iter=n_iter, averaging_on=False, momentum=0, verbose=True, start_averaging=0)\n",
        "\n",
        "# Output results\n",
        "print(\"Final weights:\\n\", w_output)\n",
        "print(\"Final objective value:\\n\", objectives[-1])\n",
        "print(\"Final error:\\n\", errors[-1] if len(errors) > 0 and errors[-1] is not None else \"N/A\")"
      ]
    },
    {
      "cell_type": "code",
      "execution_count": null,
      "metadata": {
        "id": "WgdFnB5h6K0f"
      },
      "outputs": [],
      "source": [
        "# Error of objective on a logarithmic scale\n",
        "plt.figure(figsize=(7, 5))\n",
        "plt.semilogy(obj_sgdcr - obj_min, label=\"SGD const\", lw=2)\n",
        "plt.semilogy(obj_sgdsr - obj_min, label=\"SGD shrink\", lw=2)\n",
        "plt.title(\"Convergence plot\", fontsize=16)\n",
        "plt.xlabel(\"#iterations\", fontsize=14)\n",
        "plt.ylabel(\"Error of objective\", fontsize=14)\n",
        "plt.legend()\n",
        "# Distance to the minimizer on a logarithmic scale\n",
        "plt.figure(figsize=(7, 5))\n",
        "plt.yscale(\"log\")\n",
        "plt.semilogy(err_sgdcr , label=\"SGD const\", lw=2)\n",
        "plt.semilogy(err_sgdsr , label=\"SGD shrink\", lw=2)\n",
        "plt.title(\"Convergence plot\", fontsize=16)\n",
        "plt.xlabel(\"#iterations\", fontsize=14)\n",
        "plt.ylabel(\"Distance to the minimum\", fontsize=14)\n",
        "plt.legend()"
      ]
    },
    {
      "cell_type": "markdown",
      "metadata": {
        "id": "tW2Zjo_F6K0f"
      },
      "source": [
        "**Questions**\n",
        "\n",
        "- Compare the solution you obtain for SGD with constant stepsizes and SGD with shrinking stepsizes.\n",
        "- Which one is faster in the beginning? Which reaches the \"best\" solution?\n",
        "- What happens when is you use sampling without replacement instead? Hint: Do only one datapass, it's annoying to adapt this implementation for more than one datapass when sampling without replacement\n",
        "\n"
      ]
    },
    {
      "cell_type": "markdown",
      "metadata": {
        "id": "KDgLEaov6K0f"
      },
      "source": [
        "### SGD with switch to  shrinking stepsizes"
      ]
    },
    {
      "cell_type": "code",
      "execution_count": null,
      "metadata": {
        "id": "RbBYa0-m6K0f"
      },
      "outputs": [],
      "source": [
        "mu = model.mu_constant();\n",
        "Kappa = Lmax/mu;\n",
        "tstar = 4*int(np.ceil(Kappa));"
      ]
    },
    {
      "cell_type": "markdown",
      "metadata": {
        "id": "DWz_-r866K0f"
      },
      "source": [
        "Test SGD with the following switching stepsizes given in the lecture\n",
        "\n",
        "$\\gamma^t=\n",
        "\\begin{cases}\n",
        "\\displaystyle \\tfrac{1}{2L_{\\max}} & \\mbox{for}\\quad t \\leq 4\\lceil\\mathcal{K} \\rceil \\\\[0.3cm]\n",
        "\\displaystyle \\tfrac{2t+1}{(t+1)^2 \\mu} &  \\mbox{for}\\quad t > 4\\lceil\\mathcal{K} \\rceil.\n",
        "\\end{cases}$"
      ]
    },
    {
      "cell_type": "code",
      "execution_count": null,
      "metadata": {
        "id": "L9pVv_qc6K0f"
      },
      "outputs": [],
      "source": [
        "#############TODO#######################\n",
        "# Execute SGD with a switching stepsizes. Please name the output as\n",
        "# w_sgdsr, obj_sgdss, err_sgdss = sgd(.....?.....)\n",
        "##############END TODO######################"
      ]
    },
    {
      "cell_type": "code",
      "execution_count": null,
      "metadata": {
        "id": "gjzPqPP56K0f"
      },
      "outputs": [],
      "source": [
        "# Error of objective on a logarithmic scale\n",
        "plt.figure(figsize=(7, 5))\n",
        "plt.semilogy(obj_sgdss - obj_min, label=\"SGD switch\", lw=2)\n",
        "plt.semilogy(obj_sgdsr - obj_min, label=\"SGD shrink\", lw=2)\n",
        "plt.title(\"Convergence plot\", fontsize=16)\n",
        "plt.xlabel(\"#iterations\", fontsize=14)\n",
        "plt.ylabel(\"Error of objective\", fontsize=14)\n",
        "plt.legend()\n",
        "# Distance to the minimizer on a logarithmic scale\n",
        "plt.figure(figsize=(7, 5))\n",
        "plt.yscale(\"log\")\n",
        "plt.semilogy(err_sgdss , label=\"SGD switch\", lw=2)\n",
        "plt.semilogy(err_sgdsr , label=\"SGD shrink\", lw=2)\n",
        "plt.title(\"Convergence plot\", fontsize=16)\n",
        "plt.xlabel(\"#iterations\", fontsize=14)\n",
        "plt.ylabel(\"Distance to the minimum\", fontsize=14)\n",
        "plt.legend()"
      ]
    },
    {
      "cell_type": "markdown",
      "metadata": {
        "id": "r7izOw-k6K0g"
      },
      "source": [
        "## 5. Compare with averaging step\n",
        "\n",
        "- Implement the average iterate output  \n",
        "- Compare the solution you obtain for SGD with shrinking stepsizes and SGD with averaging.\n",
        "- What happens if you start averaging only the last n iterates? When is averaging useful?\n"
      ]
    },
    {
      "cell_type": "code",
      "execution_count": null,
      "metadata": {
        "id": "vbyeKLkz6K0k"
      },
      "outputs": [],
      "source": [
        "#############TODO#######################\n",
        "# Execute SGD with averaging on and shrinking stepsize. Please name the output as\n",
        "# w_sgdar, obj_sgdar, err_sgdar = sgd( .... )\n",
        "# HINT: you can use the same stepsizes as decreasing and average just the last n_iter/4 steps\n",
        "###############END TODO#####################"
      ]
    },
    {
      "cell_type": "code",
      "execution_count": null,
      "metadata": {
        "id": "hT165yi_6K0k"
      },
      "outputs": [],
      "source": [
        "# Error of objective on a logarithmic scale\n",
        "plt.figure(figsize=(7, 5))\n",
        "plt.semilogy(obj_sgdss - obj_min, label=\"SGD switch\", lw=2)\n",
        "plt.semilogy(obj_sgdar - obj_min, label=\"SGD average end\", lw=2)\n",
        "plt.title(\"Convergence plot\", fontsize=16)\n",
        "plt.xlabel(\"#iterations\", fontsize=14)\n",
        "plt.ylabel(\"Loss function\", fontsize=14)\n",
        "plt.legend()\n",
        "# Distance to the minimizer on a logarithmic scale\n",
        "plt.figure(figsize=(7, 5))\n",
        "plt.semilogy(err_sgdss , label=\"SGD switch\", lw=2)\n",
        "plt.semilogy(err_sgdar , label=\"SGD average end\", lw=2)\n",
        "plt.title(\"Convergence plot\", fontsize=16)\n",
        "plt.xlabel(\"#iterations\", fontsize=14)\n",
        "plt.ylabel(\"Distance to the minimum\", fontsize=14)\n",
        "plt.legend()"
      ]
    },
    {
      "cell_type": "markdown",
      "metadata": {
        "id": "F6uxTCCT91KS"
      },
      "source": [
        "## Compare with SGD with momentum (SGDm)\n",
        "\n",
        "- Implement the momentum variant in SGD\n",
        "- Compare with averaging and decreasing stepsizes with late start\n",
        "- For what momentum parameters does SGDm work well?\n",
        "- Combining all the tricks/variants seen so far, what is the best variant of SGD for this problem?"
      ]
    },
    {
      "cell_type": "code",
      "execution_count": null,
      "metadata": {
        "id": "qeK0LqKn95Zy"
      },
      "outputs": [],
      "source": [
        "#############TODO#######################\n",
        "# Execute SGD with momentum. Please name the output as\n",
        "# w_sgdm, obj_sgdm, err_sgdm = sgd( .... )\n",
        "# HINT: you can use the same stepsizes as decreasing and average just the last n_iter/4 steps\n",
        "###############END TODO#####################"
      ]
    },
    {
      "cell_type": "markdown",
      "metadata": {
        "id": "pFXey5Iq6K0k"
      },
      "source": [
        "## Compare with gradient descent\n",
        "\n",
        "- Complete the code of gradient descent (GD) below\n",
        "- How much more is the computational cost of a step of gradient descent with respect to the computational cost of a SGD step?  How many steps of gradient descent should you take so that the total computational complexity is equivalent to datapasses * n steps of SGD ?\n",
        "- Compare GD with SGD, where on the $x$-axis of the plot you the total computational effort spent\n",
        "- What happens if you increase the number of datapasses?"
      ]
    },
    {
      "cell_type": "code",
      "execution_count": null,
      "metadata": {
        "id": "P0gpuo6k6K0k"
      },
      "outputs": [],
      "source": [
        "def gd(w0, model, step, w_min =[], n_iter=100, verbose=True):\n",
        "    \"\"\"Gradient descent algorithm\n",
        "    \"\"\"\n",
        "    w = w0.copy()\n",
        "    w_new = w0.copy()\n",
        "    n_samples, n_features = X.shape\n",
        "    # estimation error history\n",
        "    errors = []\n",
        "    err = 1.\n",
        "    # objective history\n",
        "    objectives = []\n",
        "    # Current estimation error\n",
        "    if np.any(w_min):\n",
        "        err = norm(w - w_min) / norm(w_min)\n",
        "        errors.append(err)\n",
        "    # Current objective\n",
        "    obj = model.f(w)\n",
        "    objectives.append(obj)\n",
        "    if verbose:\n",
        "        print(\"Lauching GD solver...\")\n",
        "        print(' | '.join([name.center(8) for name in [\"it\", \"obj\", \"err\"]]))\n",
        "    for k in range(n_iter ):\n",
        "        ##### TODO ######################\n",
        "        ##### Compute gradient step update\n",
        "        #####   w[:] = ...\n",
        "        ##### END TODO ##################\n",
        "        obj = model.f(w)\n",
        "        if (sum(w_min)):\n",
        "            err = norm(w - w_min) / norm(w_min)\n",
        "            errors.append(err)\n",
        "        objectives.append(obj)\n",
        "        if verbose:\n",
        "            print(' | '.join([(\"%d\" % k).rjust(8),\n",
        "                              (\"%.2e\" % obj).rjust(8),\n",
        "                              (\"%.2e\" % err).rjust(8)]))\n",
        "    return w, np.array(objectives), np.array(errors)"
      ]
    },
    {
      "cell_type": "code",
      "execution_count": null,
      "metadata": {
        "id": "uYs4Iou_6K0k"
      },
      "outputs": [],
      "source": [
        "step = 1. / model.lipschitz_constant()\n",
        "w_gd, obj_gd, err_gd = gd(w0, model, step, w_min, datapasses)\n",
        "print(obj_gd)"
      ]
    },
    {
      "cell_type": "code",
      "execution_count": null,
      "metadata": {
        "id": "nB22w_Uw6K0k"
      },
      "outputs": [],
      "source": [
        "complexityofGD = n * np.arange(0, datapasses + 1)\n",
        "print(complexityofGD)"
      ]
    },
    {
      "cell_type": "code",
      "execution_count": null,
      "metadata": {
        "id": "dbrNWTp16K0k"
      },
      "outputs": [],
      "source": [
        "# Error of objective on a logarithmic scale\n",
        "plt.figure(figsize=(7, 5))\n",
        "plt.semilogy(complexityofGD, obj_gd - obj_min, label=\"gd\", lw=2)\n",
        "plt.semilogy(obj_sgdss - obj_min, label=\"sgd switch\", lw=2)\n",
        "plt.semilogy(obj_sgdm - obj_min, label=\"sgdm\", lw=2)\n",
        "plt.title(\"Convergence plot\", fontsize=16)\n",
        "plt.xlabel(\"# SGD iterations\", fontsize=14)\n",
        "plt.ylabel(\"Loss function\", fontsize=14)\n",
        "plt.legend()\n",
        "# Distance to the minimum on a logarithmic scale\n",
        "plt.figure(figsize=(7, 5))\n",
        "plt.semilogy(complexityofGD, err_gd, label=\"gd\", lw=2)\n",
        "plt.semilogy(err_sgdss , label=\"sgd switch\", lw=2)\n",
        "plt.semilogy(err_sgdm , label=\"sgd switch\", lw=2)\n",
        "plt.title(\"Convergence plot\", fontsize=16)\n",
        "plt.xlabel(\"# SGD iterations\", fontsize=14)\n",
        "plt.ylabel(\"Distance to the minimum\", fontsize=14)\n",
        "plt.legend()"
      ]
    },
    {
      "cell_type": "markdown",
      "metadata": {
        "id": "A0R4bk8S6K0k"
      },
      "source": [
        "## BONUS: SGD without replacement\n",
        "\n",
        "-Execute SGD where the indices of the data points are sampled *without* replacement over each datapass"
      ]
    },
    {
      "cell_type": "code",
      "execution_count": null,
      "metadata": {
        "id": "qk2amI7Y6K0k"
      },
      "outputs": [],
      "source": [
        "#############TODO#######################\n",
        "# Execute SGD with averaging on and shrinking stepsize. Please name the output as\n",
        "# w_sgdsw, obj_sgdsw, err_sgdsw = sgd(....)\n",
        "# HINT: You should use numpy.matlib's repmat function to\n",
        "#import numpy.matlib\n",
        "# With replacement\n",
        "#indices = np.matlib.repmat(... )\n",
        "###############END TODO#####################"
      ]
    },
    {
      "cell_type": "code",
      "execution_count": null,
      "metadata": {
        "id": "As8oNTMf6K0k"
      },
      "outputs": [],
      "source": [
        "# Error of objective on a logarithmic scale\n",
        "plt.figure(figsize=(7, 5))\n",
        "plt.yscale(\"log\")\n",
        "plt.plot(obj_sgdss - obj_min, label=\"SGD switch replace\", lw=2)\n",
        "plt.plot(obj_sgdsw - obj_min, label=\"SGD withoutreplace\", lw=2)\n",
        "plt.title(\"Convergence plot\", fontsize=16)\n",
        "plt.xlabel(\"#iterations\", fontsize=14)\n",
        "plt.ylabel(\"Distance to the minimum\", fontsize=14)\n",
        "plt.legend()\n",
        "# Distance to the minimizer on a logarithmic scale\n",
        "plt.figure(figsize=(7, 5))\n",
        "plt.yscale(\"log\")\n",
        "plt.plot(err_sgdss , label=\"SGD replace\", lw=2)\n",
        "plt.plot(err_sgdsw , label=\"SGD withoutreplace\", lw=2)\n",
        "plt.title(\"Convergence plot\", fontsize=16)\n",
        "plt.xlabel(\"#iterations\", fontsize=14)\n",
        "plt.ylabel(\"Distance to the minimum\", fontsize=14)\n",
        "plt.legend()"
      ]
    },
    {
      "cell_type": "code",
      "execution_count": null,
      "metadata": {
        "id": "uID7lu6A6K0k"
      },
      "outputs": [],
      "source": [
        "# Distance to the minimizer on a logarithmic scale\n",
        "plt.figure(figsize=(7, 5))\n",
        "plt.yscale(\"log\")\n",
        "plt.semilogy(err_sgdsw , label=\"SGD withoutreplace\", lw=2)\n",
        "plt.semilogy(err_sgdsaw , label=\"SGD averaging end\", lw=2)\n",
        "plt.semilogy(complexityofGD, err_gd , label=\"GD\", lw=2)\n",
        "plt.title(\"Convergence plot\", fontsize=16)\n",
        "plt.xlabel(\"#iterations\", fontsize=14)\n",
        "plt.ylabel(\"Distance to true model\", fontsize=14)\n",
        "plt.legend()"
      ]
    },
    {
      "cell_type": "markdown",
      "metadata": {
        "id": "LEh-pP586K0k"
      },
      "source": [
        "## Compare SGD and GD in terms of test error. That is, use w_model_truth to compare¶"
      ]
    },
    {
      "cell_type": "code",
      "execution_count": null,
      "metadata": {
        "id": "Rz6nHL9j6K0k"
      },
      "outputs": [],
      "source": [
        "datapasses = 30;\n",
        "n_iters = int(datapasses * n)\n",
        "\n",
        "\n",
        "## SGD without replacement, decreasing stepsize, averaging at end\n",
        "#############TODO#######################\n",
        "# w_sgdar, obj_sgdar, err_sgdar    = sgd(... w_model_truth ...)\n",
        "###############END TODO#####################\n",
        "\n",
        "\n",
        "\n",
        "## SGD without replacement, decreasing stepsize, no averaging\n",
        "#############TODO#######################\n",
        "#  w_sgdsw, obj_sgdsw, err_sgdsw = sgd( ...  w_model_truth ...);\n",
        "###############END TODO#####################\n",
        "\n",
        "## GD\n",
        "#############TODO#######################\n",
        "# w_gd, obj_gd, err_gd = gd( ...  w_model_truth ... )\n",
        "###############END TODO#####################"
      ]
    },
    {
      "cell_type": "code",
      "execution_count": null,
      "metadata": {
        "id": "BfqSuLhf6K0l"
      },
      "outputs": [],
      "source": [
        "complexityofGD = n * np.arange(0, datapasses + 1)\n",
        "\n",
        "# Distance to the minimizer on a logarithmic scale\n",
        "plt.figure(figsize=(7, 5))\n",
        "plt.yscale(\"log\")\n",
        "plt.semilogy(err_sgdsw , label=\"SGD withoutreplace\", lw=2)\n",
        "plt.semilogy(err_sgdar , label=\"SGD averaging end\", lw=2)\n",
        "plt.semilogy(complexityofGD, err_gd , label=\"GD\", lw=2)\n",
        "plt.title(\"Convergence plot\", fontsize=16)\n",
        "plt.xlabel(\"#iterations\", fontsize=14)\n",
        "plt.ylabel(\"Distance to true model\", fontsize=14)\n",
        "plt.legend()"
      ]
    },
    {
      "cell_type": "markdown",
      "metadata": {
        "id": "F92hC58u6K0l"
      },
      "source": [
        "## THE END!"
      ]
    }
  ],
  "metadata": {
    "anaconda-cloud": {},
    "colab": {
      "provenance": []
    },
    "kernelspec": {
      "display_name": "Python 3",
      "language": "python",
      "name": "python3"
    },
    "language_info": {
      "codemirror_mode": {
        "name": "ipython",
        "version": 3
      },
      "file_extension": ".py",
      "mimetype": "text/x-python",
      "name": "python",
      "nbconvert_exporter": "python",
      "pygments_lexer": "ipython3",
      "version": "3.11.5"
    }
  },
  "nbformat": 4,
  "nbformat_minor": 0
}
